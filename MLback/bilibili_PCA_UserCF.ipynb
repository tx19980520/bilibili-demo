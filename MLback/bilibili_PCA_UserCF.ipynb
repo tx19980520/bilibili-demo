{
 "cells": [
  {
   "cell_type": "markdown",
   "metadata": {},
   "source": [
    "# bilibili PCA UserCF\n",
    "\n",
    "企图将番剧作为维度，进行主成分分析，之后降维，再进行聚类得到不同的人群"
   ]
  },
  {
   "cell_type": "code",
   "execution_count": 2,
   "metadata": {},
   "outputs": [],
   "source": [
    "# import package\n",
    "import numpy as np\n",
    "from sklearn.decomposition import PCA\n",
    "import pandas as pd"
   ]
  },
  {
   "cell_type": "code",
   "execution_count": 3,
   "metadata": {},
   "outputs": [],
   "source": [
    "AnimeDic = pd.read_json(\"D:/ML/animeId.json\")[0].tolist()\n",
    "def AnimeIdConvert(AnimeId):\n",
    "    return AnimeDic.index(int(AnimeId))\n",
    "#load rawdata\n",
    "with open('D:/ML/alluserlocal.json', 'r',encoding=\"utf-8\") as f:    \n",
    "    # 逐行读取    \n",
    "    data = (line.strip() for line in f)    \n",
    "    # 格式化，然后每行作为list的一个元素    \n",
    "    data_json = \"[{0}]\".format(','.join(data))\n",
    "    recipes = pd.read_json(data_json)\n",
    "raw_data = recipes[\"likevideo\"].tolist()\n",
    "tmp_data = []\n",
    "for d in raw_data:\n",
    "    if len(d) > 10:\n",
    "        tmp_data.append(d)\n",
    "raw_data = tmp_data\n",
    "# change to shape(x, 3402)\n",
    "data = []\n",
    "for d in raw_data:\n",
    "    arr = np.zeros(3402)\n",
    "    for bungmi in d:\n",
    "        try:\n",
    "            arr[AnimeIdConvert(bungmi)] = 1\n",
    "        except ValueError:\n",
    "            continue\n",
    "    data.append(arr)"
   ]
  },
  {
   "cell_type": "code",
   "execution_count": 4,
   "metadata": {},
   "outputs": [],
   "source": [
    "# pca test\n",
    "pca = PCA(n_components=30)\n",
    "newd = pca.fit_transform(data)"
   ]
  },
  {
   "cell_type": "markdown",
   "metadata": {},
   "source": [
    "使用聚类的效果非常的差，我们最终决定是比较新向量和每一个向量求取一个余弦相似度"
   ]
  },
  {
   "cell_type": "code",
   "execution_count": 6,
   "metadata": {},
   "outputs": [],
   "source": [
    "从上面的结果初步来看是比较正确的，但为了节省时间我们需要更加快速的找到我们的相似用户，且两个用户的相似度不能过于高，否则很能实现长尾，推荐的意义并不大，并且我们需要进行二次封装，封装为与原来的接口相似，为了达到快速寻找和泛化的效果，我准备进行多层次聚类达到类似树状结构的查找，我准备弄成json数据存在mongoDB里面"
   ]
  },
  {
   "cell_type": "code",
   "execution_count": 33,
   "metadata": {},
   "outputs": [],
   "source": [
    "# k-means\n",
    "from sklearn.cluster import KMeans\n",
    "TurnOne = KMeans(n_clusters=20, random_state=0)\n",
    "TurnOneResult = TurnOne.fit_predict(newd)\n",
    "TurnOneCenters = TurnOne.cluster_centers_ # 得到第一层的中心"
   ]
  },
  {
   "cell_type": "code",
   "execution_count": 67,
   "metadata": {},
   "outputs": [
    {
     "name": "stdout",
     "output_type": "stream",
     "text": [
      "(20,)\n"
     ]
    }
   ],
   "source": [
    "def getTurnData(TurnResult):\n",
    "    TurnData = []\n",
    "    for index in range(20):\n",
    "        pos_array = np.argwhere(TurnResult == index)\n",
    "        TurnUser = []\n",
    "        for pos in pos_array:\n",
    "            TurnUser.append(newd[pos][0])\n",
    "        TurnData.append(TurnUser)\n",
    "    return TurnData\n",
    "TurnOneData = getTurnData(TurnOneResult)# 得到第一层的分类结果\n",
    "TurnTwoTotal = []\n",
    "TurnTwoCenters = []\n",
    "for label in TurnOneData:\n",
    "    TurnTwo = KMeans(n_clusters=20, random_state=0)\n",
    "    TurnTwoResult = TurnTwo.fit_predict(label)\n",
    "    TurnTwoData = getTurnData(TurnTwoResult)\n",
    "    TurnTwoTotal.append(TurnTwoData)\n",
    "    TurnTwoCenters.append(TurnTwo.cluster_centers_)"
   ]
  },
  {
   "cell_type": "code",
   "execution_count": 74,
   "metadata": {},
   "outputs": [
    {
     "data": {
      "text/plain": [
       "(20,)"
      ]
     },
     "execution_count": 74,
     "metadata": {},
     "output_type": "execute_result"
    }
   ],
   "source": [
    "# TurnOneCenters and TurnTwoCenters are like sifters\n",
    "np.array(TurnTwoTotal).shape\n",
    "#np.array(TurnTwoCenters).shape"
   ]
  },
  {
   "cell_type": "code",
   "execution_count": 77,
   "metadata": {},
   "outputs": [],
   "source": [
    "from sklearn.metrics.pairwise import cosine_similarity\n",
    "from random import shuffle\n",
    "def ToAnimeId(index):\n",
    "    return AnimeDic[index]\n",
    "def predict(my_favorite):\n",
    "    convert_favorite = np.zeros(3402)\n",
    "    for ban in my_favorite:\n",
    "        convert_favorite[AnimeIdConvert(ban)] = 1\n",
    "    convert_favorite = pca.transform([convert_favorite])\n",
    "    max1_index = 0\n",
    "    index = 0\n",
    "    max_similar = 0.0\n",
    "    for user in TurnOneCenters:\n",
    "        similar = cosine_similarity([user],convert_favorite)\n",
    "        if similar > max_similar:\n",
    "            max_similar = similar\n",
    "            max1_index = index\n",
    "        index += 1\n",
    "    # 已在TurnOne找到最相似的中心\n",
    "    Turn2 = TurnTwoCenters[max1_index]\n",
    "    max2_index = 0\n",
    "    index = 0\n",
    "    max_similar = 0.0\n",
    "    for center in Turn2:\n",
    "        similar = cosine_similarity([user],convert_favorite)\n",
    "        if similar > max_similar:\n",
    "            max_similar = similar\n",
    "            max2_index = index\n",
    "        index += 1\n",
    "    # 已在TurnTwo找到最相似的中心\n",
    "    friends = TurnTwoTotal[max1_index][max2_index]\n",
    "    # 随机从friends中抽取一个作为推荐的比对\n",
    "    count = 0\n",
    "    recommend_list = []\n",
    "    while(count < 10):\n",
    "        shuffle(friends)\n",
    "        simi = pca.inverse_transform(friends[0])\n",
    "        order = np.argsort(simi)\n",
    "        order = order[::-1]\n",
    "        for i in range(5):\n",
    "            if ToAnimeId(order[i]) in my_favorite or ToAnimeId(order[i]) in recommend_list:\n",
    "                continue\n",
    "            else:\n",
    "                recommend_list.append(ToAnimeId(order[i]))\n",
    "                count += 1\n",
    "    return recommend_list[:10]"
   ]
  },
  {
   "cell_type": "code",
   "execution_count": 78,
   "metadata": {},
   "outputs": [
    {
     "data": {
      "text/plain": [
       "[1656, 1539, 836, 1699, 1505, 6402, 5852, 2543, 6301, 3450]"
      ]
     },
     "execution_count": 78,
     "metadata": {},
     "output_type": "execute_result"
    }
   ],
   "source": [
    "my_favorite=[2661,645,5997,1547,2747,1293,5800,5798,1057,3048,5027,5793,6440,21557,963,427,177,3756]# test data\n",
    "predict(my_favorite)"
   ]
  },
  {
   "cell_type": "code",
   "execution_count": 86,
   "metadata": {},
   "outputs": [],
   "source": [
    "# for more convinient, we transform the id to bangumi's name\n",
    "bilibili = {}\n",
    "import json\n",
    "with open('D:/ML/bilibili.json', 'r',encoding=\"utf-8\") as f:    \n",
    "    # 逐行读取    \n",
    "    for line in f:\n",
    "        bangumi = json.loads(line)\n",
    "        # 格式化，然后每行作为list的一个元素    \n",
    "        bilibili[bangumi[\"animeId\"]] = bangumi[\"animeTitle\"]\n",
    "def Id2Name(commend_list):\n",
    "    name_list = []\n",
    "    for commend in commend_list:\n",
    "        name_list.append(bilibili[str(commend)])\n",
    "    return name_list"
   ]
  },
  {
   "cell_type": "code",
   "execution_count": 89,
   "metadata": {},
   "outputs": [
    {
     "data": {
      "text/plain": [
       "['Re：从零开始的异世界生活',\n",
       " '欢迎来到实力至上主义的教室',\n",
       " '徒然喜欢你',\n",
       " '干物妹！小埋R',\n",
       " 'Fate/stay night [Unlimited Blade Works] 第一季',\n",
       " '魔卡少女樱 CLEAR CARD篇',\n",
       " 'Fate/stay night [Unlimited Blade Works] 第二季',\n",
       " '全职高手 第一季',\n",
       " '紫罗兰永恒花园',\n",
       " '干物妹！小埋']"
      ]
     },
     "execution_count": 89,
     "metadata": {},
     "output_type": "execute_result"
    }
   ],
   "source": [
    "Id2Name(predict(my_favorite))"
   ]
  },
  {
   "cell_type": "code",
   "execution_count": 88,
   "metadata": {},
   "outputs": [
    {
     "data": {
      "text/plain": [
       "['我的妹妹不可能那么可爱 第二季',\n",
       " '我的妹妹是大阪大妈',\n",
       " '埃罗芒阿老师',\n",
       " '吹响吧！上低音号',\n",
       " '终物语',\n",
       " '幸运星',\n",
       " '小林家的龙女仆',\n",
       " 'One Room',\n",
       " '凉宫春日的忧郁 2009版',\n",
       " 'CROSSANGE 天使与龙的轮舞',\n",
       " 'NEW GAME!',\n",
       " '珈百璃的堕落',\n",
       " '如果有妹妹就好了。',\n",
       " 'citrus～柑橘味香气～',\n",
       " '魔法禁书目录 第一季',\n",
       " '某科学的超电磁炮S',\n",
       " '漫画家与助手',\n",
       " '魔卡少女樱']"
      ]
     },
     "execution_count": 88,
     "metadata": {},
     "output_type": "execute_result"
    }
   ],
   "source": [
    "Id2Name(my_favorite)"
   ]
  },
  {
   "cell_type": "code",
   "execution_count": null,
   "metadata": {},
   "outputs": [],
   "source": []
  }
 ],
 "metadata": {
  "kernelspec": {
   "display_name": "Python 3",
   "language": "python",
   "name": "python3"
  },
  "language_info": {
   "codemirror_mode": {
    "name": "ipython",
    "version": 3
   },
   "file_extension": ".py",
   "mimetype": "text/x-python",
   "name": "python",
   "nbconvert_exporter": "python",
   "pygments_lexer": "ipython3",
   "version": "3.6.4"
  }
 },
 "nbformat": 4,
 "nbformat_minor": 2
}
