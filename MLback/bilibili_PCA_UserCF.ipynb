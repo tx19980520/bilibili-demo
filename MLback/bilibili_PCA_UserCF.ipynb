{
 "cells": [
  {
   "cell_type": "markdown",
   "metadata": {},
   "source": [
    "# bilibili PCA UserCF\n",
    "\n",
    "企图将番剧作为维度，进行主成分分析，之后降维，再进行聚类得到不同的人群"
   ]
  },
  {
   "cell_type": "code",
   "execution_count": 92,
   "metadata": {},
   "outputs": [],
   "source": [
    "# import package\n",
    "import numpy as np\n",
    "from sklearn.decomposition import PCA\n",
    "import pandas as pd"
   ]
  },
  {
   "cell_type": "code",
   "execution_count": 93,
   "metadata": {},
   "outputs": [],
   "source": [
    "AnimeDic = pd.read_json(\"D:/ML/animeId.json\")[0].tolist()\n",
    "def AnimeIdConvert(AnimeId):\n",
    "    return AnimeDic.index(int(AnimeId))\n",
    "#load rawdata\n",
    "with open('D:/ML/alluserlocal.json', 'r',encoding=\"utf-8\") as f:    \n",
    "    # 逐行读取    \n",
    "    data = (line.strip() for line in f)    \n",
    "    # 格式化，然后每行作为list的一个元素    \n",
    "    data_json = \"[{0}]\".format(','.join(data))\n",
    "    recipes = pd.read_json(data_json)\n",
    "raw_data = recipes[\"likevideo\"].tolist()\n",
    "tmp_data = []\n",
    "for d in raw_data:\n",
    "    if len(d) > 10:\n",
    "        tmp_data.append(d)\n",
    "raw_data = tmp_data\n",
    "# change to shape(x, 3402)\n",
    "data = []\n",
    "for d in raw_data:\n",
    "    arr = np.zeros(3402)\n",
    "    for bungmi in d:\n",
    "        try:\n",
    "            arr[AnimeIdConvert(bungmi)] = 1\n",
    "        except ValueError:\n",
    "            continue\n",
    "    data.append(arr)"
   ]
  },
  {
   "cell_type": "code",
   "execution_count": 94,
   "metadata": {},
   "outputs": [],
   "source": [
    "# pca test\n",
    "pca = PCA(n_components=30)\n",
    "newd = pca.fit_transform(data)"
   ]
  },
  {
   "cell_type": "markdown",
   "metadata": {},
   "source": [
    "使用聚类的效果非常的差，我们最终决定是比较新向量和每一个向量求取一个余弦相似度"
   ]
  },
  {
   "cell_type": "code",
   "execution_count": 128,
   "metadata": {},
   "outputs": [],
   "source": [
    "my_favorite=[2661,645,5997,1547,2747,1293,5800,5798,1057,3048,5027,5793,6440,21557,963,427,177,3756]\n",
    "convert_favorite = np.zeros(3402)\n",
    "for ban in my_favorite:\n",
    "    convert_favorite[AnimeIdConvert(ban)] = 1\n",
    "convert_favorite = pca.transform([convert_favorite])"
   ]
  },
  {
   "cell_type": "code",
   "execution_count": 129,
   "metadata": {},
   "outputs": [],
   "source": [
    "from sklearn.metrics.pairwise import cosine_similarity\n",
    "import matplotlib.pyplot as plt\n",
    "max_vec = newd[0]\n",
    "max_similar = 0.0\n",
    "for user in newd:\n",
    "    similar = cosine_similarity([user],convert_favorite)\n",
    "    if similar > max_similar:\n",
    "        max_similar = similar\n",
    "        max_vec = user\n",
    "simi = pca.inverse_transform(max_vec)\n",
    "#%matplotlib inline\n",
    "#plt.hist(simi)\n",
    "order = np.argsort(simi)\n",
    "order = order[::-1]"
   ]
  },
  {
   "cell_type": "code",
   "execution_count": 133,
   "metadata": {},
   "outputs": [
    {
     "name": "stdout",
     "output_type": "stream",
     "text": [
      "6446\n",
      "1699\n",
      "1512\n",
      "835\n",
      "1539\n",
      "6465\n",
      "6001\n",
      "425\n",
      "5996\n",
      "5776\n"
     ]
    }
   ],
   "source": [
    "def ToAnimeId(index):\n",
    "    return AnimeDic[index]\n",
    "count = 0\n",
    "i = 0\n",
    "while(count < 10):\n",
    "    if ToAnimeId(order[i]) in my_favorite:\n",
    "        i += 1\n",
    "        continue\n",
    "    else:\n",
    "        print(ToAnimeId(order[i]))\n",
    "        i += 1\n",
    "        count += 1"
   ]
  },
  {
   "cell_type": "code",
   "execution_count": null,
   "metadata": {},
   "outputs": [],
   "source": []
  }
 ],
 "metadata": {
  "kernelspec": {
   "display_name": "Python 3",
   "language": "python",
   "name": "python3"
  },
  "language_info": {
   "codemirror_mode": {
    "name": "ipython",
    "version": 3
   },
   "file_extension": ".py",
   "mimetype": "text/x-python",
   "name": "python",
   "nbconvert_exporter": "python",
   "pygments_lexer": "ipython3",
   "version": "3.6.4"
  }
 },
 "nbformat": 4,
 "nbformat_minor": 2
}
